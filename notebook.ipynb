{
 "cells": [
  {
   "cell_type": "markdown",
   "metadata": {},
   "source": [
    "# RANS from DNS"
   ]
  },
  {
   "cell_type": "markdown",
   "metadata": {},
   "source": [
    "Our goal here, in general, is to find new valid equations that describe fluid flow. \n",
    "We will try to find new closures for the steady RANS equations based on direct numerical\n",
    "simulation (DNS) of a boundary layer.\n",
    "\n",
    "\n",
    "## Steady RANS equations with generic Reynolds stress effects\n",
    "\n",
    "$$\n",
    "(\\vec{U} \\cdot \\nabla) \\vec{U}\n",
    "+ \\frac{1}{\\rho} \\nabla P \n",
    "- \\nu \\nabla^2 \\vec{U}\n",
    "= \\mathbf{R},\n",
    "$$\n",
    "\n",
    "where in this case $\\mathbf{R}$ is simply the effects of the Reynolds stresses (i.e., the opposite of the gradient), not the Reynolds stresses themselves.\n",
    "\n",
    "Some ideas for what $\\mathbf{R}$ could be:\n",
    "\n",
    "$$\n",
    "\\mathbf{R} = A\\nabla P^2 + B\\nabla K + C \\nabla \\times \\vec{U} \n",
    "    + D\\nabla(\\nabla \\times \\vec{U})^2\n",
    "    + E \\vec{U}\n",
    "$$\n",
    "\n",
    "\n",
    "## Algorithm\n",
    "\n",
    "1. Pick terms (in addition to non-Reynolds stress Navier--Stokes terms).\n",
    "2. Create a random list of points in space that is at least as large as the number\n",
    "   of terms.\n",
    "3. At each point, acquire all data for all terms for all times.\n",
    "4. Average data at each point for all times.\n",
    "5. Solve for coefficients using a linear model."
   ]
  },
  {
   "cell_type": "markdown",
   "metadata": {},
   "source": [
    "## Terms\n",
    "\n",
    "$$\n",
    "U \\frac{\\partial U}{\\partial x} \n",
    "+ V \\frac{\\partial U}{\\partial y} + W \\frac{\\partial U}{\\partial z}\n",
    "+ \\frac{1}{\\rho}\\frac{\\partial P}{\\partial x} \n",
    "- \\nu \\left( \n",
    "    \\frac{\\partial^2 U}{\\partial x^2}\n",
    "    + \\frac{\\partial^2 U}{\\partial y^2} \n",
    "    + \\frac{\\partial^2 U}{\\partial z^2} \n",
    "\\right)\n",
    "$$\n",
    "\n",
    "$$\n",
    "= \n",
    "A \\left( \\frac{\\partial U}{\\partial x} \\right)^2 \n",
    "+ B \\left( \\frac{\\partial U}{\\partial y} \\right)^2\n",
    "+ C \\left( \\frac{\\partial U}{\\partial z} \\right)^2\n",
    "+ D \\left( \\frac{\\partial P}{\\partial x} \\right)^2\n",
    "+ E \\frac{\\partial^2 P}{\\partial x^2}\n",
    "+ F U \\frac{\\partial P}{\\partial x}\n",
    "$$\n",
    "\n",
    "$$\n",
    "U \\frac{\\partial V}{\\partial x} \n",
    "+ V \\frac{\\partial V}{\\partial y} \n",
    "+ W \\frac{\\partial V}{\\partial z}\n",
    "+ \\frac{1}{\\rho}\\frac{\\partial P}{\\partial y} \n",
    "- \\nu \\left( \n",
    "    \\frac{\\partial^2 V}{\\partial x^2}\n",
    "    + \\frac{\\partial^2 V}{\\partial y^2} \n",
    "    + \\frac{\\partial^2 V}{\\partial z^2} \n",
    "\\right)\n",
    "$$\n",
    "\n",
    "$$\n",
    "= \n",
    "A \\left( \\frac{\\partial V}{\\partial x} \\right)^2 \n",
    "+ B \\left( \\frac{\\partial V}{\\partial y} \\right)^2\n",
    "+ C \\left( \\frac{\\partial V}{\\partial z} \\right)^2\n",
    "+ D \\left( \\frac{\\partial P}{\\partial y} \\right)^2\n",
    "+ E \\frac{\\partial^2 P}{\\partial y^2}\n",
    "+ F V \\frac{\\partial P}{\\partial y}\n",
    "$$"
   ]
  },
  {
   "cell_type": "markdown",
   "metadata": {},
   "source": [
    "## Terms in index notation\n",
    "\n",
    "To be general and consistent, since we don't have any x- or z-variation\n",
    "\n",
    "$$\n",
    "\\frac{\\partial U_i}{\\partial t} + U_j \\frac{\\partial U_i}{\\partial x_j} \n",
    "+ \\frac{1}{\\rho}\\frac{\\partial P}{\\partial x_i}\n",
    "- \\nu \\frac{\\partial ^2 U_i}{\\partial x_j x_j}\n",
    "=\n",
    "A \\frac{(\\partial U_i)^2}{\\partial x_j \\partial x_j}\n",
    "+ B \\frac{\\partial U_j U_j}{\\partial x_i}\n",
    "+ C \\frac{\\partial P^2}{\\partial x_i}\n",
    "+ D \\left( \\frac{\\partial P}{\\partial x_i} \\right)^2\n",
    "+ E U_j \\frac{\\partial P}{\\partial x_j}\n",
    "$$"
   ]
  },
  {
   "cell_type": "markdown",
   "metadata": {},
   "source": [
    "What these coefficients describe:\n",
    "\n",
    "* $A$: The square of the velocity gradient\n",
    "* $B$: The gradient of kinetic energy\n",
    "* $C$: The gradient of squared pressure\n",
    "* $D$: The square of the pressure gradient\n",
    "\n",
    "Other possible quantities\n",
    "* Absolute distance from a solid boundary"
   ]
  },
  {
   "cell_type": "code",
   "execution_count": 1,
   "metadata": {},
   "outputs": [],
   "source": [
    "%load_ext autoreload\n",
    "%autoreload 2\n",
    "\n",
    "import matplotlib\n",
    "matplotlib.use(\"nbAgg\")\n",
    "\n",
    "import h5py\n",
    "import numpy as np\n",
    "import pandas as pd\n",
    "import matplotlib.pyplot as plt\n",
    "import os\n",
    "import seaborn\n",
    "import jhtdb\n",
    "seaborn.set()\n",
    "\n",
    "%matplotlib inline"
   ]
  },
  {
   "cell_type": "markdown",
   "metadata": {},
   "source": [
    "## Using data from pyJHTDB\n",
    "\n",
    "1. Pick a bunch of points randomly throughout the domain, at least more than the number of terms we want to test.\n",
    "2. Add points in each direction for computing spatial derivatives.\n",
    "3. Get $\\vec{u}$, $p$, and their gradients for all time at all points in the list.\n",
    "4. Calculate terms based on mean values.\n",
    "5. Use a regression model to determine coefficients on each term.\n",
    "6. Repeat this process to ensure the coefficients don't change?\n",
    "7. Run a RANS simulation with this new model and check the results against the mean profiles."
   ]
  },
  {
   "cell_type": "code",
   "execution_count": 2,
   "metadata": {},
   "outputs": [
    {
     "name": "stdout",
     "output_type": "stream",
     "text": [
      "<KeysViewHDF5 ['pm', 'ppm', 'um', 'upm', 'uum', 'uvm', 'uwm', 'vm', 'vpm', 'vvm', 'vwm', 'wm', 'wpm', 'wwm', 'x_coor', 'y_coor', 'z_coor']>\n"
     ]
    }
   ],
   "source": [
    "with h5py.File(\"data/jhtdb-transitional-bl/time-ave-profiles.h5\", \"r\") as f:\n",
    "    print(f.keys())\n",
    "    data = {}\n",
    "    for k in f.keys():\n",
    "        kn = k.split(\"_\")[0]\n",
    "        if kn.endswith(\"m\"):\n",
    "            kn = kn[:-1]\n",
    "        data[kn] = f[k][()]"
   ]
  },
  {
   "cell_type": "code",
   "execution_count": 3,
   "metadata": {},
   "outputs": [
    {
     "data": {
      "text/plain": [
       "p         (224, 3320)\n",
       "pp        (224, 3320)\n",
       "u         (224, 3320)\n",
       "up        (224, 3320)\n",
       "uu        (224, 3320)\n",
       "uv        (224, 3320)\n",
       "uw        (224, 3320)\n",
       "v         (224, 3320)\n",
       "vp        (224, 3320)\n",
       "vv        (224, 3320)\n",
       "vw        (224, 3320)\n",
       "w         (224, 3320)\n",
       "wp        (224, 3320)\n",
       "ww        (224, 3320)\n",
       "x             (3320,)\n",
       "y              (224,)\n",
       "z             (2048,)\n",
       "dpdx      (224, 3320)\n",
       "duudx     (224, 3320)\n",
       "duvdy     (224, 3320)\n",
       "dudx      (224, 3320)\n",
       "dudy      (224, 3320)\n",
       "d2udx2    (224, 3320)\n",
       "d2udy2    (224, 3320)\n",
       "dpdy      (224, 3320)\n",
       "dtype: object"
      ]
     },
     "execution_count": 3,
     "metadata": {},
     "output_type": "execute_result"
    }
   ],
   "source": [
    "# If numerical derivatives are too noisy, download gradients and Hessians from\n",
    "# JHTDB and time average\n",
    "dx = np.gradient(data[\"x\"])\n",
    "dy = np.reshape(np.gradient(data[\"y\"]), (224, 1))\n",
    "# dz = np.gradient(data[\"z\"])\n",
    "# TODO: Correct fluctuation terms according to README\n",
    "# >uum is the time-averaged of u*u (not u'*u', where u'=u-um).\n",
    "# >So time-averaged of u'*u'=uum-um*um. Same for other quantities.\n",
    "for dim in (\"u\", \"v\", \"w\"):\n",
    "    data[f\"{dim}{dim}\"] = data[f\"{dim}{dim}\"] - data[f\"{dim}\"]**2\n",
    "# Calculate gradients\n",
    "data[\"dpdx\"] = np.gradient(data[\"p\"], axis=1) / dx\n",
    "data[\"duudx\"] = np.gradient(data[\"uu\"], axis=1) / dx\n",
    "data[\"duvdy\"] = np.gradient(data[\"uv\"], axis=0) / dy\n",
    "data[\"dudx\"] = np.gradient(data[\"u\"], axis=1) / dx\n",
    "data[\"dudy\"] = np.gradient(data[\"u\"], axis=0) / dy\n",
    "data[\"d2udx2\"] = np.gradient(data[\"dudx\"], axis=1) / dx\n",
    "data[\"d2udy2\"] = np.gradient(data[\"dudy\"], axis=0) / dy\n",
    "data[\"dpdx\"] = np.gradient(data[\"p\"], axis=1) / dx\n",
    "data[\"dpdy\"] = np.gradient(data[\"p\"], axis=0) / dy\n",
    "# data[\"dwdz\"] = np.gradient(data[\"w\"], axis=1) / dz\n",
    "pd.Series(\n",
    "    {k: v.shape for k, v in data.items()}\n",
    ")"
   ]
  },
  {
   "cell_type": "code",
   "execution_count": 4,
   "metadata": {},
   "outputs": [
    {
     "data": {
      "text/plain": [
       "[<matplotlib.lines.Line2D at 0x7f29162cc520>]"
      ]
     },
     "execution_count": 4,
     "metadata": {},
     "output_type": "execute_result"
    },
    {
     "data": {
      "image/png": "[encoded data removed]",
      "text/plain": [
       "<Figure size 432x288 with 1 Axes>"
      ]
     },
     "metadata": {
      "needs_background": "light"
     },
     "output_type": "display_data"
    }
   ],
   "source": [
    "plt.plot(data[\"dpdx\"][100, :], data[\"x\"])"
   ]
  },
  {
   "cell_type": "code",
   "execution_count": 5,
   "metadata": {},
   "outputs": [
    {
     "data": {
      "text/plain": [
       "[<matplotlib.lines.Line2D at 0x7f2914847550>]"
      ]
     },
     "execution_count": 5,
     "metadata": {},
     "output_type": "execute_result"
    },
    {
     "data": {
      "image/png": "[encoded data removed]",
      "text/plain": [
       "<Figure size 432x288 with 1 Axes>"
      ]
     },
     "metadata": {
      "needs_background": "light"
     },
     "output_type": "display_data"
    }
   ],
   "source": [
    "plt.plot(data[\"duudx\"][:, 100], data[\"y\"])"
   ]
  },
  {
   "cell_type": "code",
   "execution_count": 6,
   "metadata": {},
   "outputs": [
    {
     "data": {
      "text/plain": [
       "array([[ 2.86271718e-04,  2.86052189e-04,  2.81181183e-04, ...,\n",
       "        -2.88928610e-06, -2.93811037e-06, -2.42450379e-06],\n",
       "       [ 1.45007405e-04,  1.46888009e-04,  1.44608399e-04, ...,\n",
       "         1.02888481e-09,  3.06317923e-08,  3.29842864e-07],\n",
       "       [ 1.30368436e-05,  1.79219711e-05,  1.80954407e-05, ...,\n",
       "         2.92066366e-06,  3.22130888e-06,  2.73751427e-06],\n",
       "       ...,\n",
       "       [ 2.18660257e-04,  2.15737124e-04,  2.13876963e-04, ...,\n",
       "        -9.77645120e-06, -1.14194541e-05, -1.67515606e-05],\n",
       "       [ 2.20176557e-04,  2.20570566e-04,  2.24343765e-04, ...,\n",
       "        -1.01254971e-05, -1.27652361e-05, -1.11118802e-05],\n",
       "       [ 2.24980571e-04,  2.25637103e-04,  2.24324221e-04, ...,\n",
       "        -1.13227412e-05, -4.15003088e-06, -5.59937041e-06]])"
      ]
     },
     "execution_count": 6,
     "metadata": {},
     "output_type": "execute_result"
    }
   ],
   "source": [
    "# TODO: Check that RANS applies to these mean values\n",
    "# First, let's check the momentum balance in the x-direction\n",
    "rho = 1\n",
    "nu = 1.25e-3\n",
    "momx = (\n",
    "    data[\"u\"] * data[\"dudx\"]\n",
    "    + data[\"v\"] * data[\"dudy\"]\n",
    "    # + data[\"w\"] * data[\"dudz\"]  # 2-D; zero\n",
    "    + rho * data[\"dpdx\"]\n",
    "    - nu * (data[\"d2udx2\"] + data[\"d2udy2\"])\n",
    "    + rho * (data[\"duudx\"] + data[\"duvdy\"])\n",
    "    # + data[\"duwdz\"]  # 2-D\n",
    ")\n",
    "momx"
   ]
  },
  {
   "cell_type": "code",
   "execution_count": 7,
   "metadata": {},
   "outputs": [
    {
     "data": {
      "text/plain": [
       "[<matplotlib.lines.Line2D at 0x7f2914829d60>]"
      ]
     },
     "execution_count": 7,
     "metadata": {},
     "output_type": "execute_result"
    },
    {
     "data": {
      "image/png": "[encoded data removed]",
      "text/plain": [
       "<Figure size 432x288 with 1 Axes>"
      ]
     },
     "metadata": {
      "needs_background": "light"
     },
     "output_type": "display_data"
    }
   ],
   "source": [
    "plt.plot(momx[:, 100], data[\"y\"])"
   ]
  },
  {
   "cell_type": "code",
   "execution_count": 8,
   "metadata": {},
   "outputs": [
    {
     "data": {
      "text/plain": [
       "array([[-7.13618712e-05, -7.09622780e-05, -7.01905804e-05, ...,\n",
       "        -1.42604424e-05, -1.39500227e-05, -1.38017811e-05],\n",
       "       [-2.19133473e-04, -2.17919860e-04, -2.15464492e-04, ...,\n",
       "        -3.18556829e-05, -3.08568048e-05, -3.03756381e-05],\n",
       "       [-3.65063200e-04, -3.63164580e-04, -3.59106269e-04, ...,\n",
       "        -8.94245738e-05, -8.77929100e-05, -8.71629908e-05],\n",
       "       ...,\n",
       "       [-8.84649233e-06, -5.22066370e-06, -3.07684930e-06, ...,\n",
       "        -1.70781774e-06, -7.66402948e-07,  4.39245564e-06],\n",
       "       [-3.06560485e-06, -4.05949681e-06, -5.72390402e-06, ...,\n",
       "        -1.74935543e-06, -3.04875445e-09, -1.57806110e-06],\n",
       "       [-1.67432677e-06, -1.94380239e-06, -4.66048490e-06, ...,\n",
       "        -6.40592312e-07, -3.17719987e-06, -2.71872328e-06]])"
      ]
     },
     "execution_count": 8,
     "metadata": {},
     "output_type": "execute_result"
    }
   ],
   "source": [
    "# Let's check continuity\n",
    "div = data[\"dudx\"] + data[\"duvdy\"]\n",
    "div"
   ]
  },
  {
   "cell_type": "code",
   "execution_count": 9,
   "metadata": {},
   "outputs": [
    {
     "data": {
      "text/plain": [
       "array([[3.02184962e+01, 3.57889930e-03, 1.20000000e+02],\n",
       "       [3.02184962e+01, 1.08136188e-02, 1.20000000e+02],\n",
       "       [3.02184962e+01, 1.82038188e-02, 1.20000000e+02],\n",
       "       ...,\n",
       "       [1.00006503e+03, 2.57257197e+01, 1.20000000e+02],\n",
       "       [1.00006503e+03, 2.61054276e+01, 1.20000000e+02],\n",
       "       [1.00006503e+03, 2.64879509e+01, 1.20000000e+02]])"
      ]
     },
     "execution_count": 9,
     "metadata": {},
     "output_type": "execute_result"
    }
   ],
   "source": [
    "# all_points = np.meshgrid(data[\"x\"], data[\"y\"], np.array([jhtdb.mid_z]))\n",
    "all_points = []\n",
    "for x in data[\"x\"]:\n",
    "    for y in data[\"y\"]:\n",
    "        all_points.append((x, y, jhtdb.mid_z))\n",
    "np.array(all_points)"
   ]
  },
  {
   "cell_type": "code",
   "execution_count": 10,
   "metadata": {},
   "outputs": [
    {
     "data": {
      "text/plain": [
       "<matplotlib.collections.PathCollection at 0x7f290eb59940>"
      ]
     },
     "execution_count": 10,
     "metadata": {},
     "output_type": "execute_result"
    },
    {
     "data": {
      "image/png": "[encoded data removed]",
      "text/plain": [
       "<Figure size 432x288 with 1 Axes>"
      ]
     },
     "metadata": {
      "needs_background": "light"
     },
     "output_type": "display_data"
    }
   ],
   "source": [
    "# Choose points of interest for looking at equation terms\n",
    "from numpy.random import default_rng\n",
    "\n",
    "rng = default_rng(seed=3423592873429)\n",
    "n = 200\n",
    "yoi = rng.choice(data[\"y\"], size=n)\n",
    "xoi = rng.choice(data[\"x\"][1000:2000], size=n)\n",
    "poi = []\n",
    "for x, y in zip(xoi, yoi):\n",
    "    poi.append((x, y, jhtdb.mid_z))\n",
    "poi = np.array(poi)\n",
    "plt.scatter(poi[:, 0], poi[:, 1])"
   ]
  },
  {
   "cell_type": "markdown",
   "metadata": {},
   "source": [
    "The check above gives us an idea on how accurate these gradient calculations\n",
    "are."
   ]
  },
  {
   "cell_type": "code",
   "execution_count": 55,
   "metadata": {},
   "outputs": [
    {
     "data": {
      "application/vnd.jupyter.widget-view+json": {
       "model_id": "bcf9edf332f6435a961bf790132fcad3",
       "version_major": 2,
       "version_minor": 0
      },
      "text/plain": [
       "  0%|          | 0/100 [00:00<?, ?it/s]"
      ]
     },
     "metadata": {},
     "output_type": "display_data"
    },
    {
     "data": {
      "text/plain": [
       "(100, 1, 18)"
      ]
     },
     "execution_count": 55,
     "metadata": {},
     "output_type": "execute_result"
    }
   ],
   "source": [
    "# Get gradient and Hessian data from JHTDB for better accuracy\n",
    "res = jhtdb.get_mean_data_at_points(\n",
    "    points=poi[0:100],\n",
    "    quantity=\"VelocityHessian\",\n",
    "    verbose=False,\n",
    "    cache_all_times=True,\n",
    ")\n",
    "\n",
    "res.shape\n"
   ]
  },
  {
   "cell_type": "code",
   "execution_count": 12,
   "metadata": {},
   "outputs": [
    {
     "data": {
      "text/plain": [
       "array([[-1.4840152e-06, -3.6333372e-06,  2.9453886e-06, -1.6569369e-05,\n",
       "        -4.2660809e-05,  1.0816700e-05]], dtype=float32)"
      ]
     },
     "execution_count": 12,
     "metadata": {},
     "output_type": "execute_result"
    }
   ],
   "source": [
    "# Assemble all time-averaged data into a DataFrame indexed by spatial\n",
    "# coordinates\n",
    "res[0]"
   ]
  },
  {
   "cell_type": "code",
   "execution_count": 16,
   "metadata": {},
   "outputs": [
    {
     "data": {
      "text/plain": [
       "((743680,), (743680,))"
      ]
     },
     "execution_count": 16,
     "metadata": {},
     "output_type": "execute_result"
    }
   ],
   "source": [
    "xg, yg = np.meshgrid(data[\"x\"], data[\"y\"])\n",
    "xg.flatten().shape, yg.flatten().shape"
   ]
  },
  {
   "cell_type": "code",
   "execution_count": 47,
   "metadata": {},
   "outputs": [],
   "source": [
    "df = pd.DataFrame({\"x\": xg.flatten(), \"y\": yg.flatten()})\n",
    "for k, v in data.items():\n",
    "    if k in [\"x\", \"y\", \"z\"]:\n",
    "        continue\n",
    "    if k.startswith(\"d\"):\n",
    "        k += \"_fd\"  # Label as original finite difference\n",
    "    df[k] = v.flatten()\n",
    "df = df.set_index([\"x\", \"y\"])\n"
   ]
  },
  {
   "cell_type": "code",
   "execution_count": 57,
   "metadata": {},
   "outputs": [
    {
     "data": {
      "application/vnd.jupyter.widget-view+json": {
       "model_id": "d53cee30c6dd498fb4163e198d83e35c",
       "version_major": 2,
       "version_minor": 0
      },
      "text/plain": [
       "  0%|          | 0/100 [00:00<?, ?it/s]"
      ]
     },
     "metadata": {},
     "output_type": "display_data"
    },
    {
     "data": {
      "application/vnd.jupyter.widget-view+json": {
       "model_id": "2c346f86a1ab4fec97c301d6501d0c53",
       "version_major": 2,
       "version_minor": 0
      },
      "text/plain": [
       "  0%|          | 0/100 [00:00<?, ?it/s]"
      ]
     },
     "metadata": {},
     "output_type": "display_data"
    },
    {
     "data": {
      "application/vnd.jupyter.widget-view+json": {
       "model_id": "3640b8cba79a44f59937d070649e83c0",
       "version_major": 2,
       "version_minor": 0
      },
      "text/plain": [
       "  0%|          | 0/100 [00:00<?, ?it/s]"
      ]
     },
     "metadata": {},
     "output_type": "display_data"
    },
    {
     "data": {
      "application/vnd.jupyter.widget-view+json": {
       "model_id": "d03ef56da6e54df994f23392d5292bbb",
       "version_major": 2,
       "version_minor": 0
      },
      "text/plain": [
       "  0%|          | 0/100 [00:00<?, ?it/s]"
      ]
     },
     "metadata": {},
     "output_type": "display_data"
    }
   ],
   "source": [
    "points = poi[:100]\n",
    "\n",
    "columns = {\n",
    "    \"VelocityHessian\": [  # 18 components\n",
    "        # U components\n",
    "        \"d2udx2\",\n",
    "        \"d2udxdy\",\n",
    "        \"d2udy2\",\n",
    "        \"d2udz2\",\n",
    "        \"d2udxdz\",\n",
    "        \"d2udydz\",\n",
    "        # V components\n",
    "        \"d2vdx2\",\n",
    "        \"d2vdxdy\",\n",
    "        \"d2vdxdz\",\n",
    "        \"d2vdy2\",\n",
    "        \"d2vdydz\",\n",
    "        \"d2vdz2\",\n",
    "        # W components\n",
    "        \"d2wdx2\",\n",
    "        \"d2wdxdy\",\n",
    "        \"d2wdxdz\",\n",
    "        \"d2wdy2\",\n",
    "        \"d2wdydz\",\n",
    "        \"d2wdz2\",\n",
    "    ],\n",
    "    \"PressureHessian\": [  # 6 components\n",
    "        \"d2pdx2\",\n",
    "        \"d2pdxdy\",\n",
    "        \"d2pdxdz\",\n",
    "        \"dp2dy2\",\n",
    "        \"d2pdydz\",\n",
    "        \"d2pdz2\",\n",
    "    ],\n",
    "    \"VelocityGradient\": [  # 9 components\n",
    "        \"dudx\",\n",
    "        \"dudy\",\n",
    "        \"dudz\",\n",
    "        \"dvdx\",\n",
    "        \"dvdy\",\n",
    "        \"dvdz\",\n",
    "        \"dwdx\",\n",
    "        \"dwdy\",\n",
    "        \"dwdz\",\n",
    "    ],\n",
    "    \"PressureGradient\": [\"dpdx\", \"dpdy\", \"dpdz\"],\n",
    "}\n",
    "\n",
    "for quantity, cols in columns.items():\n",
    "    res = jhtdb.get_mean_data_at_points(\n",
    "        points=points, quantity=quantity, verbose=False, cache_all_times=True,\n",
    "    )\n",
    "    for p, vals in zip(points, res):\n",
    "        vals = vals[0, :]\n",
    "        x = p[0]\n",
    "        y = p[1]\n",
    "        assert x in df.index.get_level_values(\"x\")\n",
    "        assert y in df.index.get_level_values(\"y\")\n",
    "        for c, v in zip(cols, vals):\n",
    "            df.loc[(x, y), c] = v\n"
   ]
  },
  {
   "cell_type": "code",
   "execution_count": 59,
   "metadata": {},
   "outputs": [],
   "source": [
    "df.to_hdf(\"data/jhtdb-transitional-bl/all-stats.h5\", key=\"data\")"
   ]
  },
  {
   "cell_type": "code",
   "execution_count": 60,
   "metadata": {},
   "outputs": [
    {
     "data": {
      "text/plain": [
       "Index(['p', 'pp', 'u', 'up', 'uu', 'uv', 'uw', 'v', 'vp', 'vv', 'vw', 'w',\n",
       "       'wp', 'ww', 'dpdx_fd', 'duudx_fd', 'duvdy_fd', 'dudx_fd', 'dudy_fd',\n",
       "       'd2udx2_fd', 'd2udy2_fd', 'dpdy_fd', 'd2udx2', 'd2udxdy', 'd2udy2',\n",
       "       'd2udz2', 'd2udxdz', 'd2udydz', 'd2vdx2', 'd2vdxdy', 'd2vdxdz',\n",
       "       'd2vdy2', 'd2vdydz', 'd2vdz2', 'd2wdx2', 'd2wdxdy', 'd2wdxdz', 'd2wdy2',\n",
       "       'd2wdydz', 'd2wdz2', 'd2pdx2', 'd2pdxdy', 'd2pdxdz', 'dp2dy2',\n",
       "       'd2pdydz', 'd2pdz2', 'dudx', 'dudy', 'dudz', 'dvdx', 'dvdy', 'dvdz',\n",
       "       'dwdx', 'dwdy', 'dwdz', 'dpdx', 'dpdy', 'dpdz'],\n",
       "      dtype='object')"
      ]
     },
     "execution_count": 60,
     "metadata": {},
     "output_type": "execute_result"
    }
   ],
   "source": [
    "df.columns"
   ]
  },
  {
   "cell_type": "code",
   "execution_count": 63,
   "metadata": {},
   "outputs": [
    {
     "data": {
      "text/plain": [
       "x           y        \n",
       "414.767470  0.003579     0.000019\n",
       "388.176317  0.025753     0.000292\n",
       "441.066412  0.033464    -0.000018\n",
       "426.748099  0.041341     0.000255\n",
       "536.619234  0.041341     0.000154\n",
       "                           ...   \n",
       "366.260532  23.150977    0.000001\n",
       "602.074379  23.150977   -0.000003\n",
       "365.676111  25.725720    0.000010\n",
       "373.858004  26.105428    0.000002\n",
       "418.858416  26.105428    0.000010\n",
       "Length: 100, dtype: float64"
      ]
     },
     "execution_count": 63,
     "metadata": {},
     "output_type": "execute_result"
    }
   ],
   "source": [
    "(df.dudx + df.dvdy + df.dwdz).dropna()"
   ]
  },
  {
   "cell_type": "code",
   "execution_count": 46,
   "metadata": {},
   "outputs": [
    {
     "data": {
      "image/png": "[encoded data removed]",
      "text/plain": [
       "<Figure size 432x288 with 1 Axes>"
      ]
     },
     "metadata": {
      "needs_background": "light"
     },
     "output_type": "display_data"
    }
   ],
   "source": [
    "ax = (\n",
    "    df.loc[df.index.get_level_values(\"x\")[-1000]]\n",
    "    .reset_index()\n",
    "    .plot(x=\"u\", y=\"y\", legend=False, ylabel=\"$U$\", xlabel=\"$y$\")\n",
    ")\n",
    "\n"
   ]
  },
  {
   "cell_type": "code",
   "execution_count": null,
   "metadata": {},
   "outputs": [],
   "source": [
    "# TODO: Compute a bunch of quantities and add to the data dictionary\n",
    "# Mean kinetic energy\n",
    "# Squared gradients\n",
    "# Gradients multiplied by each other\n",
    "# Gradients multiplied by mean values"
   ]
  },
  {
   "cell_type": "code",
   "execution_count": null,
   "metadata": {},
   "outputs": [],
   "source": [
    "# Compute the Reynolds stress residual as a target for an ML model\n",
    "# Solve a linear regression for the coefficients of all derived terms\n",
    "# Throw out terms with coefficients below a threshold"
   ]
  },
  {
   "cell_type": "code",
   "execution_count": null,
   "metadata": {},
   "outputs": [],
   "source": [
    "# TODO: Write as a RANS model for OpenFOAM and solve this same problem there\n",
    "# First run a baseline case with a high Re kOmegaSST model\n",
    "# How to handle wall functions?"
   ]
  },
  {
   "cell_type": "code",
   "execution_count": null,
   "metadata": {},
   "outputs": [],
   "source": [
    "# TODO: Check mean flow from OpenFOAM simulation matches DNS"
   ]
  }
 ],
 "metadata": {
  "anaconda-cloud": {},
  "interpreter": {
   "hash": "67abb3081dd5dae31dfbbc0da20a2728396b83ec8e5c00aa5ca03528e6b771ed"
  },
  "kernelspec": {
   "display_name": "Python 3.8.11 64-bit ('base': conda)",
   "name": "python3"
  },
  "language_info": {
   "codemirror_mode": {
    "name": "ipython",
    "version": 3
   },
   "file_extension": ".py",
   "mimetype": "text/x-python",
   "name": "python",
   "nbconvert_exporter": "python",
   "pygments_lexer": "ipython3",
   "version": "3.8.11"
  }
 },
 "nbformat": 4,
 "nbformat_minor": 4
}
