{
 "cells": [
  {
   "cell_type": "markdown",
   "source": [
    "# RANS from DNS"
   ],
   "metadata": {}
  },
  {
   "cell_type": "markdown",
   "source": [
    "Our goal here, in general, is to find new valid equations that describe fluid flow. \n",
    "We will try to find new closures for the steady RANS equations based on direct numerical\n",
    "simulation (DNS) of a boundary layer.\n",
    "\n",
    "\n",
    "## Steady RANS equations with generic Reynolds stress effects\n",
    "\n",
    "$$\n",
    "(\\vec{U} \\cdot \\nabla) \\vec{U}\n",
    "+ \\frac{1}{\\rho} \\nabla P \n",
    "- \\nu \\nabla^2 \\vec{U}\n",
    "= \\mathbf{R},\n",
    "$$\n",
    "\n",
    "where in this case $\\mathbf{R}$ is simply the effects of the Reynolds stresses (i.e., the opposite of the gradient), not the Reynolds stresses themselves.\n",
    "\n",
    "Some ideas for what $\\mathbf{R}$ could be:\n",
    "\n",
    "$$\n",
    "\\mathbf{R} = A\\nabla P^2 + B\\nabla K + C \\nabla \\times \\vec{U} \n",
    "    + D\\nabla(\\nabla \\times \\vec{U})^2\n",
    "    + E \\vec{U}\n",
    "$$\n",
    "\n",
    "\n",
    "## Algorithm\n",
    "\n",
    "1. Pick terms (in addition to non-Reynolds stress Navier--Stokes terms).\n",
    "2. Create a random list of points in space that is at least as large as the number\n",
    "   of terms.\n",
    "3. At each point, acquire all data for all terms for all times.\n",
    "4. Average data at each point for all times.\n",
    "5. Solve for coefficients using a linear model."
   ],
   "metadata": {}
  },
  {
   "cell_type": "markdown",
   "source": [
    "## Terms\n",
    "\n",
    "$$\n",
    "U \\frac{\\partial U}{\\partial x} \n",
    "+ V \\frac{\\partial U}{\\partial y} + W \\frac{\\partial U}{\\partial z}\n",
    "+ \\frac{1}{\\rho}\\frac{\\partial P}{\\partial x} \n",
    "- \\nu \\left( \n",
    "    \\frac{\\partial^2 U}{\\partial x^2}\n",
    "    + \\frac{\\partial^2 U}{\\partial y^2} \n",
    "    + \\frac{\\partial^2 U}{\\partial z^2} \n",
    "\\right)\n",
    "$$\n",
    "\n",
    "$$\n",
    "= \n",
    "A \\left( \\frac{\\partial U}{\\partial x} \\right)^2 \n",
    "+ B \\left( \\frac{\\partial U}{\\partial y} \\right)^2\n",
    "+ C \\left( \\frac{\\partial U}{\\partial z} \\right)^2\n",
    "+ D \\left( \\frac{\\partial P}{\\partial x} \\right)^2\n",
    "+ E \\frac{\\partial^2 P}{\\partial x^2}\n",
    "+ F U \\frac{\\partial P}{\\partial x}\n",
    "$$\n",
    "\n",
    "$$\n",
    "U \\frac{\\partial V}{\\partial x} \n",
    "+ V \\frac{\\partial V}{\\partial y} \n",
    "+ W \\frac{\\partial V}{\\partial z}\n",
    "+ \\frac{1}{\\rho}\\frac{\\partial P}{\\partial y} \n",
    "- \\nu \\left( \n",
    "    \\frac{\\partial^2 V}{\\partial x^2}\n",
    "    + \\frac{\\partial^2 V}{\\partial y^2} \n",
    "    + \\frac{\\partial^2 V}{\\partial z^2} \n",
    "\\right)\n",
    "$$\n",
    "\n",
    "$$\n",
    "= \n",
    "A \\left( \\frac{\\partial V}{\\partial x} \\right)^2 \n",
    "+ B \\left( \\frac{\\partial V}{\\partial y} \\right)^2\n",
    "+ C \\left( \\frac{\\partial V}{\\partial z} \\right)^2\n",
    "+ D \\left( \\frac{\\partial P}{\\partial y} \\right)^2\n",
    "+ E \\frac{\\partial^2 P}{\\partial y^2}\n",
    "+ F V \\frac{\\partial P}{\\partial y}\n",
    "$$"
   ],
   "metadata": {}
  },
  {
   "cell_type": "markdown",
   "source": [
    "## Terms in index notation\n",
    "\n",
    "To be general and consistent, since we don't have any x- or z-variation\n",
    "\n",
    "$$\n",
    "\\frac{\\partial U_i}{\\partial t} + U_j \\frac{\\partial U_i}{\\partial x_j} \n",
    "+ \\frac{1}{\\rho}\\frac{\\partial P}{\\partial x_i}\n",
    "- \\nu \\frac{\\partial ^2 U_i}{\\partial x_j x_j}\n",
    "=\n",
    "A \\frac{(\\partial U_i)^2}{\\partial x_j \\partial x_j}\n",
    "+ B \\frac{\\partial U_j U_j}{\\partial x_i}\n",
    "+ C \\frac{\\partial P^2}{\\partial x_i}\n",
    "+ D \\left( \\frac{\\partial P}{\\partial x_i} \\right)^2\n",
    "+ E U_j \\frac{\\partial P}{\\partial x_j}\n",
    "$$"
   ],
   "metadata": {}
  },
  {
   "cell_type": "markdown",
   "source": [
    "What these coefficients describe:\n",
    "\n",
    "* $A$: The square of the velocity gradient\n",
    "* $B$: The gradient of kinetic energy\n",
    "* $C$: The gradient of squared pressure\n",
    "* $D$: The square of the pressure gradient"
   ],
   "metadata": {}
  },
  {
   "cell_type": "code",
   "execution_count": 1,
   "source": [
    "%load_ext autoreload\n",
    "%autoreload 2\n",
    "\n",
    "import h5py\n",
    "import numpy as np\n",
    "import pandas as pd\n",
    "import matplotlib.pyplot as plt\n",
    "import os\n",
    "import seaborn\n",
    "import jhtdb\n",
    "seaborn.set()"
   ],
   "outputs": [],
   "metadata": {}
  },
  {
   "cell_type": "markdown",
   "source": [
    "## Using data from pyJHTDB\n",
    "\n",
    "1. Pick a bunch of points randomly throughout the domain, at least more than the number of terms we want to test.\n",
    "2. Add points in each direction for computing spatial derivatives.\n",
    "3. Get $\\vec{u}$, $p$, and their gradients for all time at all points in the list.\n",
    "4. Calculate terms based on mean values.\n",
    "5. Use a regression model to determine coefficients on each term.\n",
    "6. Repeat this process to ensure the coefficients don't change?\n",
    "7. Run a RANS simulation with this new model and check the results against the mean profiles."
   ],
   "metadata": {}
  },
  {
   "cell_type": "code",
   "execution_count": 3,
   "source": [
    "with h5py.File(\"data/jhtdb-transitional-bl/time-ave-profiles.h5\", \"r\") as f:\n",
    "    print(f.keys())\n",
    "    data = {}\n",
    "    for k in f.keys():\n",
    "        kn = k.split(\"_\")[0]\n",
    "        if kn.endswith(\"m\"):\n",
    "            kn = kn[:-1]\n",
    "        data[kn] = f[k][()]"
   ],
   "outputs": [
    {
     "output_type": "stream",
     "name": "stdout",
     "text": [
      "<KeysViewHDF5 ['pm', 'ppm', 'um', 'upm', 'uum', 'uvm', 'uwm', 'vm', 'vpm', 'vvm', 'vwm', 'wm', 'wpm', 'wwm', 'x_coor', 'y_coor', 'z_coor']>\n"
     ]
    }
   ],
   "metadata": {}
  },
  {
   "cell_type": "code",
   "execution_count": 4,
   "source": [
    "# If numerical derivatives are too noisy, download gradients and Hessians from\n",
    "# JHTDB and time average\n",
    "dx = np.gradient(data[\"x\"])\n",
    "dy = np.reshape(np.gradient(data[\"y\"]), (224, 1))\n",
    "# dz = np.gradient(data[\"z\"])\n",
    "# TODO: Correct fluctuation terms according to README\n",
    "# >uum is the time-averaged of u*u (not u'*u', where u'=u-um).\n",
    "# >So time-averaged of u'*u'=uum-um*um. Same for other quantities.\n",
    "for dim in (\"u\", \"v\", \"w\"):\n",
    "    data[f\"{dim}{dim}\"] = data[f\"{dim}{dim}\"] - data[f\"{dim}\"]**2\n",
    "# Calculate gradients\n",
    "data[\"dpdx\"] = np.gradient(data[\"p\"], axis=1) / dx\n",
    "data[\"duudx\"] = np.gradient(data[\"uu\"], axis=1) / dx\n",
    "data[\"duvdy\"] = np.gradient(data[\"uv\"], axis=0) / dy\n",
    "data[\"dudx\"] = np.gradient(data[\"u\"], axis=1) / dx\n",
    "data[\"dudy\"] = np.gradient(data[\"u\"], axis=0) / dy\n",
    "data[\"d2udx2\"] = np.gradient(data[\"dudx\"], axis=1) / dx\n",
    "data[\"d2udy2\"] = np.gradient(data[\"dudy\"], axis=0) / dy\n",
    "data[\"dpdx\"] = np.gradient(data[\"p\"], axis=1) / dx\n",
    "data[\"dpdy\"] = np.gradient(data[\"p\"], axis=0) / dy\n",
    "# data[\"dwdz\"] = np.gradient(data[\"w\"], axis=1) / dz\n",
    "pd.Series(\n",
    "    {k: v.shape for k, v in data.items()}\n",
    ")"
   ],
   "outputs": [
    {
     "output_type": "execute_result",
     "data": {
      "text/plain": [
       "p         (224, 3320)\n",
       "pp        (224, 3320)\n",
       "u         (224, 3320)\n",
       "up        (224, 3320)\n",
       "uu        (224, 3320)\n",
       "uv        (224, 3320)\n",
       "uw        (224, 3320)\n",
       "v         (224, 3320)\n",
       "vp        (224, 3320)\n",
       "vv        (224, 3320)\n",
       "vw        (224, 3320)\n",
       "w         (224, 3320)\n",
       "wp        (224, 3320)\n",
       "ww        (224, 3320)\n",
       "x             (3320,)\n",
       "y              (224,)\n",
       "z             (2048,)\n",
       "dpdx      (224, 3320)\n",
       "duudx     (224, 3320)\n",
       "duvdy     (224, 3320)\n",
       "dudx      (224, 3320)\n",
       "dudy      (224, 3320)\n",
       "d2udx2    (224, 3320)\n",
       "d2udy2    (224, 3320)\n",
       "dpdy      (224, 3320)\n",
       "dtype: object"
      ]
     },
     "metadata": {},
     "execution_count": 4
    }
   ],
   "metadata": {}
  },
  {
   "cell_type": "code",
   "execution_count": null,
   "source": [
    "plt.plot(data[\"dpdx\"][100, :], data[\"x\"])"
   ],
   "outputs": [],
   "metadata": {}
  },
  {
   "cell_type": "code",
   "execution_count": null,
   "source": [
    "plt.plot(data[\"duudx\"][:, 100], data[\"y\"])"
   ],
   "outputs": [],
   "metadata": {}
  },
  {
   "cell_type": "code",
   "execution_count": null,
   "source": [
    "# TODO: Check that RANS applies to these mean values\n",
    "# First, let's check the momentum balance in the x-direction\n",
    "rho = 1\n",
    "nu = 1.25e-3\n",
    "momx = (\n",
    "    data[\"u\"] * data[\"dudx\"]\n",
    "    + data[\"v\"] * data[\"dudy\"]\n",
    "    # + data[\"w\"] * data[\"dudz\"]  # 2-D; zero\n",
    "    + rho * data[\"dpdx\"]\n",
    "    - nu * (data[\"d2udx2\"] + data[\"d2udy2\"])\n",
    "    + rho * (data[\"duudx\"] + data[\"duvdy\"])\n",
    "    # + data[\"duwdz\"]  # 2-D\n",
    ")\n",
    "momx"
   ],
   "outputs": [],
   "metadata": {}
  },
  {
   "cell_type": "code",
   "execution_count": null,
   "source": [
    "plt.plot(momx[:, 100], data[\"y\"])"
   ],
   "outputs": [],
   "metadata": {}
  },
  {
   "cell_type": "code",
   "execution_count": null,
   "source": [
    "# Let's check continuity\n",
    "div = data[\"dudx\"] + data[\"duvdy\"]\n",
    "div"
   ],
   "outputs": [],
   "metadata": {}
  },
  {
   "cell_type": "markdown",
   "source": [
    "The check above gives us an idea on how accurate these gradient calculations\n",
    "are."
   ],
   "metadata": {}
  },
  {
   "cell_type": "code",
   "execution_count": null,
   "source": [
    "# Get gradient and Hessian data from JHTDB for better accuracy\n",
    "res = jhtdb.get_data_at_points(\n",
    "    t=jhtdb.all_times[-1],\n",
    "    points=[(jhtdb.mid_x, jhtdb.mid_y, jhtdb.mid_z)],\n",
    "    quantity=\"PressureGradient\",\n",
    ")\n",
    "\n",
    "res\n"
   ],
   "outputs": [],
   "metadata": {}
  },
  {
   "cell_type": "code",
   "execution_count": 2,
   "source": [
    "res = jhtdb.get_data_at_points_for_all_time(\n",
    "    [(jhtdb.mid_x, jhtdb.mid_y, jhtdb.mid_z)],\n",
    "    quantity=\"PressureGradient\",\n",
    ")\n",
    "\n",
    "res"
   ],
   "outputs": [
    {
     "output_type": "display_data",
     "data": {
      "application/vnd.jupyter.widget-view+json": {
       "version_major": 2,
       "version_minor": 0,
       "model_id": "96ff6b565792463d97b5997342cbbeac"
      },
      "text/plain": [
       "  0%|          | 0/4701 [00:00<?, ?it/s]"
      ]
     },
     "metadata": {}
    },
    {
     "output_type": "execute_result",
     "data": {
      "text/plain": [
       "array([[[-5.6397257e-05, -3.7803162e-05,  1.1839904e-05]],\n",
       "\n",
       "       [[-4.7017402e-05, -3.8865965e-05,  1.0761432e-05]],\n",
       "\n",
       "       [[-2.7736125e-05, -4.3282722e-05,  9.2987902e-06]],\n",
       "\n",
       "       ...,\n",
       "\n",
       "       [[-1.2167661e-04,  1.3794402e-05,  1.6097911e-05]],\n",
       "\n",
       "       [[-1.2024590e-04,  1.5842183e-05,  8.9844689e-06]],\n",
       "\n",
       "       [[-1.2171087e-04,  1.8586967e-05,  8.3306804e-07]]], dtype=float32)"
      ]
     },
     "metadata": {},
     "execution_count": 2
    }
   ],
   "metadata": {}
  },
  {
   "cell_type": "code",
   "execution_count": null,
   "source": [
    "res.shape"
   ],
   "outputs": [],
   "metadata": {}
  },
  {
   "cell_type": "code",
   "execution_count": null,
   "source": [
    "# TODO: Compute a bunch of quantities and add to the data dictionary\n",
    "# Mean kinetic energy\n",
    "# Squared gradients\n",
    "# Gradients multiplied by each other\n",
    "# Gradients multiplied by mean values"
   ],
   "outputs": [],
   "metadata": {}
  },
  {
   "cell_type": "code",
   "execution_count": null,
   "source": [
    "# Compute the Reynolds stress residual as a target for an ML model\n",
    "# Solve a linear regression for the coefficients of all derived terms\n",
    "# Throw out terms with coefficients below a threshold"
   ],
   "outputs": [],
   "metadata": {}
  },
  {
   "cell_type": "code",
   "execution_count": null,
   "source": [
    "# TODO: Write as a RANS model for OpenFOAM and solve this same problem there"
   ],
   "outputs": [],
   "metadata": {}
  },
  {
   "cell_type": "code",
   "execution_count": null,
   "source": [
    "# TODO: Check mean flow from OpenFOAM simulation matches DNS"
   ],
   "outputs": [],
   "metadata": {}
  }
 ],
 "metadata": {
  "anaconda-cloud": {},
  "kernelspec": {
   "name": "python3",
   "display_name": "Python 3.8.10 64-bit ('base': conda)"
  },
  "language_info": {
   "codemirror_mode": {
    "name": "ipython",
    "version": 3
   },
   "file_extension": ".py",
   "mimetype": "text/x-python",
   "name": "python",
   "nbconvert_exporter": "python",
   "pygments_lexer": "ipython3",
   "version": "3.8.10"
  },
  "interpreter": {
   "hash": "3bd81b91dac8848ade0c04c05c223d478c8dd0bdb2d63e98502744946eb6e865"
  }
 },
 "nbformat": 4,
 "nbformat_minor": 4
}