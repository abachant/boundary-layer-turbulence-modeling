{
 "cells": [
  {
   "cell_type": "markdown",
   "source": [
    "# RANS from DNS"
   ],
   "metadata": {}
  },
  {
   "cell_type": "markdown",
   "source": [
    "Our goal here, in general, is to find new valid equations that describe fluid flow. \n",
    "We will try to find new closures for the steady RANS equations based on direct numerical\n",
    "simulation (DNS) of a boundary layer.\n",
    "\n",
    "\n",
    "## Steady RANS equations with generic Reynolds stress effects\n",
    "\n",
    "$$\n",
    "(\\vec{U} \\cdot \\nabla) \\vec{U}\n",
    "+ \\frac{1}{\\rho} \\nabla P \n",
    "- \\nu \\nabla^2 \\vec{U}\n",
    "= \\mathbf{R},\n",
    "$$\n",
    "\n",
    "where in this case $\\mathbf{R}$ is simply the effects of the Reynolds stresses (i.e., the opposite of the gradient), not the Reynolds stresses themselves.\n",
    "\n",
    "Some ideas for what $\\mathbf{R}$ could be:\n",
    "\n",
    "$$\n",
    "\\mathbf{R} = A\\nabla P^2 + B\\nabla K + C \\nabla \\times \\vec{U} \n",
    "    + D\\nabla(\\nabla \\times \\vec{U})^2\n",
    "    + E \\vec{U}\n",
    "$$\n",
    "\n",
    "\n",
    "## Algorithm\n",
    "\n",
    "1. Pick terms (in addition to non-Reynolds stress Navier--Stokes terms).\n",
    "2. Create a random list of points in space that is at least as large as the number\n",
    "   of terms.\n",
    "3. At each point, acquire all data for all terms for all times.\n",
    "4. Average data at each point for all times.\n",
    "5. Solve for coefficients using a linear model."
   ],
   "metadata": {}
  },
  {
   "cell_type": "markdown",
   "source": [
    "## Terms\n",
    "\n",
    "$$\n",
    "U \\frac{\\partial U}{\\partial x} \n",
    "+ V \\frac{\\partial U}{\\partial y} + W \\frac{\\partial U}{\\partial z}\n",
    "+ \\frac{1}{\\rho}\\frac{\\partial P}{\\partial x} \n",
    "- \\nu \\left( \n",
    "    \\frac{\\partial^2 U}{\\partial x^2}\n",
    "    + \\frac{\\partial^2 U}{\\partial y^2} \n",
    "    + \\frac{\\partial^2 U}{\\partial z^2} \n",
    "\\right)\n",
    "$$\n",
    "\n",
    "$$\n",
    "= \n",
    "A \\left( \\frac{\\partial U}{\\partial x} \\right)^2 \n",
    "+ B \\left( \\frac{\\partial U}{\\partial y} \\right)^2\n",
    "+ C \\left( \\frac{\\partial U}{\\partial z} \\right)^2\n",
    "+ D \\left( \\frac{\\partial P}{\\partial x} \\right)^2\n",
    "+ E \\frac{\\partial^2 P}{\\partial x^2}\n",
    "+ F U \\frac{\\partial P}{\\partial x}\n",
    "$$\n",
    "\n",
    "$$\n",
    "U \\frac{\\partial V}{\\partial x} \n",
    "+ V \\frac{\\partial V}{\\partial y} \n",
    "+ W \\frac{\\partial V}{\\partial z}\n",
    "+ \\frac{1}{\\rho}\\frac{\\partial P}{\\partial y} \n",
    "- \\nu \\left( \n",
    "    \\frac{\\partial^2 V}{\\partial x^2}\n",
    "    + \\frac{\\partial^2 V}{\\partial y^2} \n",
    "    + \\frac{\\partial^2 V}{\\partial z^2} \n",
    "\\right)\n",
    "$$\n",
    "\n",
    "$$\n",
    "= \n",
    "A \\left( \\frac{\\partial V}{\\partial x} \\right)^2 \n",
    "+ B \\left( \\frac{\\partial V}{\\partial y} \\right)^2\n",
    "+ C \\left( \\frac{\\partial V}{\\partial z} \\right)^2\n",
    "+ D \\left( \\frac{\\partial P}{\\partial y} \\right)^2\n",
    "+ E \\frac{\\partial^2 P}{\\partial y^2}\n",
    "+ F V \\frac{\\partial P}{\\partial y}\n",
    "$$"
   ],
   "metadata": {}
  },
  {
   "cell_type": "markdown",
   "source": [
    "## Terms in index notation\n",
    "\n",
    "To be general and consistent, since we don't have any x- or z-variation\n",
    "\n",
    "$$\n",
    "\\frac{\\partial U_i}{\\partial t} + U_j \\frac{\\partial U_i}{\\partial x_j} \n",
    "+ \\frac{1}{\\rho}\\frac{\\partial P}{\\partial x_i}\n",
    "- \\nu \\frac{\\partial ^2 U_i}{\\partial x_j x_j}\n",
    "=\n",
    "A \\frac{(\\partial U_i)^2}{\\partial x_j \\partial x_j}\n",
    "+ B \\frac{\\partial U_j U_j}{\\partial x_i}\n",
    "+ C \\frac{\\partial P^2}{\\partial x_i}\n",
    "+ D \\left( \\frac{\\partial P}{\\partial x_i} \\right)^2\n",
    "+ E U_j \\frac{\\partial P}{\\partial x_j}\n",
    "$$"
   ],
   "metadata": {}
  },
  {
   "cell_type": "markdown",
   "source": [
    "What these coefficients describe:\n",
    "\n",
    "* $A$: The square of the velocity gradient\n",
    "* $B$: The gradient of kinetic energy\n",
    "* $C$: The gradient of squared pressure\n",
    "* $D$: The square of the pressure gradient"
   ],
   "metadata": {}
  },
  {
   "cell_type": "code",
   "execution_count": 1,
   "source": [
    "%load_ext autoreload\n",
    "%autoreload 2\n",
    "\n",
    "import matplotlib\n",
    "matplotlib.use(\"nbAgg\")\n",
    "\n",
    "import h5py\n",
    "import numpy as np\n",
    "import pandas as pd\n",
    "import matplotlib.pyplot as plt\n",
    "import os\n",
    "import seaborn\n",
    "import jhtdb\n",
    "seaborn.set()\n",
    "\n",
    "%matplotlib inline"
   ],
   "outputs": [],
   "metadata": {}
  },
  {
   "cell_type": "markdown",
   "source": [
    "## Using data from pyJHTDB\n",
    "\n",
    "1. Pick a bunch of points randomly throughout the domain, at least more than the number of terms we want to test.\n",
    "2. Add points in each direction for computing spatial derivatives.\n",
    "3. Get $\\vec{u}$, $p$, and their gradients for all time at all points in the list.\n",
    "4. Calculate terms based on mean values.\n",
    "5. Use a regression model to determine coefficients on each term.\n",
    "6. Repeat this process to ensure the coefficients don't change?\n",
    "7. Run a RANS simulation with this new model and check the results against the mean profiles."
   ],
   "metadata": {}
  },
  {
   "cell_type": "code",
   "execution_count": 2,
   "source": [
    "with h5py.File(\"data/jhtdb-transitional-bl/time-ave-profiles.h5\", \"r\") as f:\n",
    "    print(f.keys())\n",
    "    data = {}\n",
    "    for k in f.keys():\n",
    "        kn = k.split(\"_\")[0]\n",
    "        if kn.endswith(\"m\"):\n",
    "            kn = kn[:-1]\n",
    "        data[kn] = f[k][()]"
   ],
   "outputs": [
    {
     "output_type": "stream",
     "name": "stdout",
     "text": [
      "<KeysViewHDF5 ['pm', 'ppm', 'um', 'upm', 'uum', 'uvm', 'uwm', 'vm', 'vpm', 'vvm', 'vwm', 'wm', 'wpm', 'wwm', 'x_coor', 'y_coor', 'z_coor']>\n"
     ]
    }
   ],
   "metadata": {}
  },
  {
   "cell_type": "code",
   "execution_count": 3,
   "source": [
    "# If numerical derivatives are too noisy, download gradients and Hessians from\n",
    "# JHTDB and time average\n",
    "dx = np.gradient(data[\"x\"])\n",
    "dy = np.reshape(np.gradient(data[\"y\"]), (224, 1))\n",
    "# dz = np.gradient(data[\"z\"])\n",
    "# TODO: Correct fluctuation terms according to README\n",
    "# >uum is the time-averaged of u*u (not u'*u', where u'=u-um).\n",
    "# >So time-averaged of u'*u'=uum-um*um. Same for other quantities.\n",
    "for dim in (\"u\", \"v\", \"w\"):\n",
    "    data[f\"{dim}{dim}\"] = data[f\"{dim}{dim}\"] - data[f\"{dim}\"]**2\n",
    "# Calculate gradients\n",
    "data[\"dpdx\"] = np.gradient(data[\"p\"], axis=1) / dx\n",
    "data[\"duudx\"] = np.gradient(data[\"uu\"], axis=1) / dx\n",
    "data[\"duvdy\"] = np.gradient(data[\"uv\"], axis=0) / dy\n",
    "data[\"dudx\"] = np.gradient(data[\"u\"], axis=1) / dx\n",
    "data[\"dudy\"] = np.gradient(data[\"u\"], axis=0) / dy\n",
    "data[\"d2udx2\"] = np.gradient(data[\"dudx\"], axis=1) / dx\n",
    "data[\"d2udy2\"] = np.gradient(data[\"dudy\"], axis=0) / dy\n",
    "data[\"dpdx\"] = np.gradient(data[\"p\"], axis=1) / dx\n",
    "data[\"dpdy\"] = np.gradient(data[\"p\"], axis=0) / dy\n",
    "# data[\"dwdz\"] = np.gradient(data[\"w\"], axis=1) / dz\n",
    "pd.Series(\n",
    "    {k: v.shape for k, v in data.items()}\n",
    ")"
   ],
   "outputs": [
    {
     "output_type": "execute_result",
     "data": {
      "text/plain": [
       "p         (224, 3320)\n",
       "pp        (224, 3320)\n",
       "u         (224, 3320)\n",
       "up        (224, 3320)\n",
       "uu        (224, 3320)\n",
       "uv        (224, 3320)\n",
       "uw        (224, 3320)\n",
       "v         (224, 3320)\n",
       "vp        (224, 3320)\n",
       "vv        (224, 3320)\n",
       "vw        (224, 3320)\n",
       "w         (224, 3320)\n",
       "wp        (224, 3320)\n",
       "ww        (224, 3320)\n",
       "x             (3320,)\n",
       "y              (224,)\n",
       "z             (2048,)\n",
       "dpdx      (224, 3320)\n",
       "duudx     (224, 3320)\n",
       "duvdy     (224, 3320)\n",
       "dudx      (224, 3320)\n",
       "dudy      (224, 3320)\n",
       "d2udx2    (224, 3320)\n",
       "d2udy2    (224, 3320)\n",
       "dpdy      (224, 3320)\n",
       "dtype: object"
      ]
     },
     "metadata": {},
     "execution_count": 3
    }
   ],
   "metadata": {}
  },
  {
   "cell_type": "code",
   "execution_count": 4,
   "source": [
    "plt.plot(data[\"dpdx\"][100, :], data[\"x\"])"
   ],
   "outputs": [
    {
     "output_type": "execute_result",
     "data": {
      "text/plain": [
       "[<matplotlib.lines.Line2D at 0x7f4515bb5af0>]"
      ]
     },
     "metadata": {},
     "execution_count": 4
    },
    {
     "output_type": "display_data",
     "data": {
      "image/png": "[encoded data removed]",
      "text/plain": [
       "<Figure size 432x288 with 1 Axes>"
      ]
     },
     "metadata": {
      "needs_background": "light"
     }
    }
   ],
   "metadata": {}
  },
  {
   "cell_type": "code",
   "execution_count": 5,
   "source": [
    "plt.plot(data[\"duudx\"][:, 100], data[\"y\"])"
   ],
   "outputs": [
    {
     "output_type": "execute_result",
     "data": {
      "text/plain": [
       "[<matplotlib.lines.Line2D at 0x7f451412d310>]"
      ]
     },
     "metadata": {},
     "execution_count": 5
    },
    {
     "output_type": "display_data",
     "data": {
      "image/png": "[encoded data removed]",
      "text/plain": [
       "<Figure size 432x288 with 1 Axes>"
      ]
     },
     "metadata": {
      "needs_background": "light"
     }
    }
   ],
   "metadata": {}
  },
  {
   "cell_type": "code",
   "execution_count": 6,
   "source": [
    "# TODO: Check that RANS applies to these mean values\n",
    "# First, let's check the momentum balance in the x-direction\n",
    "rho = 1\n",
    "nu = 1.25e-3\n",
    "momx = (\n",
    "    data[\"u\"] * data[\"dudx\"]\n",
    "    + data[\"v\"] * data[\"dudy\"]\n",
    "    # + data[\"w\"] * data[\"dudz\"]  # 2-D; zero\n",
    "    + rho * data[\"dpdx\"]\n",
    "    - nu * (data[\"d2udx2\"] + data[\"d2udy2\"])\n",
    "    + rho * (data[\"duudx\"] + data[\"duvdy\"])\n",
    "    # + data[\"duwdz\"]  # 2-D\n",
    ")\n",
    "momx"
   ],
   "outputs": [
    {
     "output_type": "execute_result",
     "data": {
      "text/plain": [
       "array([[ 2.86271718e-04,  2.86052189e-04,  2.81181183e-04, ...,\n",
       "        -2.88928610e-06, -2.93811037e-06, -2.42450379e-06],\n",
       "       [ 1.45007405e-04,  1.46888009e-04,  1.44608399e-04, ...,\n",
       "         1.02888481e-09,  3.06317923e-08,  3.29842864e-07],\n",
       "       [ 1.30368436e-05,  1.79219711e-05,  1.80954407e-05, ...,\n",
       "         2.92066366e-06,  3.22130888e-06,  2.73751427e-06],\n",
       "       ...,\n",
       "       [ 2.18660257e-04,  2.15737124e-04,  2.13876963e-04, ...,\n",
       "        -9.77645120e-06, -1.14194541e-05, -1.67515606e-05],\n",
       "       [ 2.20176557e-04,  2.20570566e-04,  2.24343765e-04, ...,\n",
       "        -1.01254971e-05, -1.27652361e-05, -1.11118802e-05],\n",
       "       [ 2.24980571e-04,  2.25637103e-04,  2.24324221e-04, ...,\n",
       "        -1.13227412e-05, -4.15003088e-06, -5.59937041e-06]])"
      ]
     },
     "metadata": {},
     "execution_count": 6
    }
   ],
   "metadata": {}
  },
  {
   "cell_type": "code",
   "execution_count": 7,
   "source": [
    "plt.plot(momx[:, 100], data[\"y\"])"
   ],
   "outputs": [
    {
     "output_type": "execute_result",
     "data": {
      "text/plain": [
       "[<matplotlib.lines.Line2D at 0x7f4514111610>]"
      ]
     },
     "metadata": {},
     "execution_count": 7
    },
    {
     "output_type": "display_data",
     "data": {
      "image/png": "[encoded data removed]",
      "text/plain": [
       "<Figure size 432x288 with 1 Axes>"
      ]
     },
     "metadata": {
      "needs_background": "light"
     }
    }
   ],
   "metadata": {}
  },
  {
   "cell_type": "code",
   "execution_count": 8,
   "source": [
    "# Let's check continuity\n",
    "div = data[\"dudx\"] + data[\"duvdy\"]\n",
    "div"
   ],
   "outputs": [
    {
     "output_type": "execute_result",
     "data": {
      "text/plain": [
       "array([[-7.13618712e-05, -7.09622780e-05, -7.01905804e-05, ...,\n",
       "        -1.42604424e-05, -1.39500227e-05, -1.38017811e-05],\n",
       "       [-2.19133473e-04, -2.17919860e-04, -2.15464492e-04, ...,\n",
       "        -3.18556829e-05, -3.08568048e-05, -3.03756381e-05],\n",
       "       [-3.65063200e-04, -3.63164580e-04, -3.59106269e-04, ...,\n",
       "        -8.94245738e-05, -8.77929100e-05, -8.71629908e-05],\n",
       "       ...,\n",
       "       [-8.84649233e-06, -5.22066370e-06, -3.07684930e-06, ...,\n",
       "        -1.70781774e-06, -7.66402948e-07,  4.39245564e-06],\n",
       "       [-3.06560485e-06, -4.05949681e-06, -5.72390402e-06, ...,\n",
       "        -1.74935543e-06, -3.04875445e-09, -1.57806110e-06],\n",
       "       [-1.67432677e-06, -1.94380239e-06, -4.66048490e-06, ...,\n",
       "        -6.40592312e-07, -3.17719987e-06, -2.71872328e-06]])"
      ]
     },
     "metadata": {},
     "execution_count": 8
    }
   ],
   "metadata": {}
  },
  {
   "cell_type": "code",
   "execution_count": 9,
   "source": [
    "# all_points = np.meshgrid(data[\"x\"], data[\"y\"], np.array([jhtdb.mid_z]))\n",
    "all_points = []\n",
    "for x in data[\"x\"]:\n",
    "    for y in data[\"y\"]:\n",
    "        all_points.append((x, y, jhtdb.mid_z))\n",
    "np.array(all_points)"
   ],
   "outputs": [
    {
     "output_type": "execute_result",
     "data": {
      "text/plain": [
       "array([[3.02184962e+01, 3.57889930e-03, 1.20000000e+02],\n",
       "       [3.02184962e+01, 1.08136188e-02, 1.20000000e+02],\n",
       "       [3.02184962e+01, 1.82038188e-02, 1.20000000e+02],\n",
       "       ...,\n",
       "       [1.00006503e+03, 2.57257197e+01, 1.20000000e+02],\n",
       "       [1.00006503e+03, 2.61054276e+01, 1.20000000e+02],\n",
       "       [1.00006503e+03, 2.64879509e+01, 1.20000000e+02]])"
      ]
     },
     "metadata": {},
     "execution_count": 9
    }
   ],
   "metadata": {}
  },
  {
   "cell_type": "markdown",
   "source": [
    "The check above gives us an idea on how accurate these gradient calculations\n",
    "are."
   ],
   "metadata": {}
  },
  {
   "cell_type": "code",
   "execution_count": null,
   "source": [
    "# Get gradient and Hessian data from JHTDB for better accuracy\n",
    "res = jhtdb.get_data_at_points(\n",
    "    t=jhtdb.all_times,\n",
    "    points=all_points[1:2],\n",
    "    quantity=\"PressureHessian\",\n",
    "    verbose=False,\n",
    ")\n",
    "\n",
    "res\n"
   ],
   "outputs": [],
   "metadata": {}
  },
  {
   "cell_type": "code",
   "execution_count": null,
   "source": [
    "res = jhtdb.get_data_at_points_for_all_time(\n",
    "    [(jhtdb.mid_x, jhtdb.mid_y, jhtdb.mid_z)],\n",
    "    quantity=\"PressureGradient\",\n",
    ")\n",
    "\n",
    "res"
   ],
   "outputs": [
    {
     "output_type": "error",
     "ename": "Error",
     "evalue": "Session cannot generate requests",
     "traceback": [
      "Error: Session cannot generate requests",
      "at w.executeCodeCell (/home/pete/.vscode-server/extensions/ms-toolsai.jupyter-2021.8.2041215044/out/client/extension.js:52:301310)",
      "at w.execute (/home/pete/.vscode-server/extensions/ms-toolsai.jupyter-2021.8.2041215044/out/client/extension.js:52:300703)",
      "at w.start (/home/pete/.vscode-server/extensions/ms-toolsai.jupyter-2021.8.2041215044/out/client/extension.js:52:296367)",
      "at runMicrotasks (<anonymous>)",
      "at processTicksAndRejections (internal/process/task_queues.js:93:5)",
      "at async t.CellExecutionQueue.executeQueuedCells (/home/pete/.vscode-server/extensions/ms-toolsai.jupyter-2021.8.2041215044/out/client/extension.js:52:311160)",
      "at async t.CellExecutionQueue.start (/home/pete/.vscode-server/extensions/ms-toolsai.jupyter-2021.8.2041215044/out/client/extension.js:52:310700)"
     ]
    }
   ],
   "metadata": {}
  },
  {
   "cell_type": "code",
   "execution_count": null,
   "source": [
    "res.shape"
   ],
   "outputs": [],
   "metadata": {}
  },
  {
   "cell_type": "code",
   "execution_count": null,
   "source": [
    "# TODO: Compute a bunch of quantities and add to the data dictionary\n",
    "# Mean kinetic energy\n",
    "# Squared gradients\n",
    "# Gradients multiplied by each other\n",
    "# Gradients multiplied by mean values"
   ],
   "outputs": [],
   "metadata": {}
  },
  {
   "cell_type": "code",
   "execution_count": null,
   "source": [
    "# Compute the Reynolds stress residual as a target for an ML model\n",
    "# Solve a linear regression for the coefficients of all derived terms\n",
    "# Throw out terms with coefficients below a threshold"
   ],
   "outputs": [],
   "metadata": {}
  },
  {
   "cell_type": "code",
   "execution_count": null,
   "source": [
    "# TODO: Write as a RANS model for OpenFOAM and solve this same problem there"
   ],
   "outputs": [],
   "metadata": {}
  },
  {
   "cell_type": "code",
   "execution_count": null,
   "source": [
    "# TODO: Check mean flow from OpenFOAM simulation matches DNS"
   ],
   "outputs": [],
   "metadata": {}
  }
 ],
 "metadata": {
  "anaconda-cloud": {},
  "interpreter": {
   "hash": "3bd81b91dac8848ade0c04c05c223d478c8dd0bdb2d63e98502744946eb6e865"
  },
  "kernelspec": {
   "name": "python3",
   "display_name": "Python 3.8.11 64-bit ('base': conda)"
  },
  "language_info": {
   "name": "python",
   "version": "3.8.11",
   "mimetype": "text/x-python",
   "codemirror_mode": {
    "name": "ipython",
    "version": 3
   },
   "pygments_lexer": "ipython3",
   "nbconvert_exporter": "python",
   "file_extension": ".py"
  }
 },
 "nbformat": 4,
 "nbformat_minor": 4
}