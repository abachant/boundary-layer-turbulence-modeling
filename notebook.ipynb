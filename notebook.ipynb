{
 "cells": [
  {
   "cell_type": "markdown",
   "metadata": {},
   "source": [
    "# RANS from DNS"
   ]
  },
  {
   "cell_type": "markdown",
   "metadata": {},
   "source": [
    "Our goal here, in general, is to find new valid equations that describe fluid flow. \n",
    "We will try to find new closures for the steady RANS equations based on direct numerical\n",
    "simulation (DNS) of a boundary layer.\n",
    "\n",
    "\n",
    "## Steady RANS equations with generic Reynolds stress effects\n",
    "\n",
    "$$\n",
    "(\\vec{U} \\cdot \\nabla) \\vec{U}\n",
    "+ \\frac{1}{\\rho} \\nabla P \n",
    "- \\nu \\nabla^2 \\vec{U}\n",
    "= \\mathbf{R},\n",
    "$$\n",
    "\n",
    "where in this case $\\mathbf{R}$ is simply the effects of the Reynolds stresses (i.e., the opposite of the gradient), not the Reynolds stresses themselves.\n",
    "\n",
    "Some ideas for what $\\mathbf{R}$ could be:\n",
    "\n",
    "$$\n",
    "\\mathbf{R} = A\\nabla P^2 + B\\nabla K + C \\nabla \\times \\vec{U} \n",
    "    + D\\nabla(\\nabla \\times \\vec{U})^2\n",
    "    + E \\vec{U}\n",
    "$$\n",
    "\n",
    "\n",
    "## Algorithm\n",
    "\n",
    "1. Pick terms (in addition to non-Reynolds stress Navier--Stokes terms).\n",
    "2. Create a random list of points in space that is at least as large as the number\n",
    "   of terms.\n",
    "3. At each point, acquire all data for all terms for all times.\n",
    "4. Average data at each point for all times.\n",
    "5. Solve for coefficients using a linear model."
   ]
  },
  {
   "cell_type": "markdown",
   "metadata": {},
   "source": [
    "## Terms\n",
    "\n",
    "$$\n",
    "U \\frac{\\partial U}{\\partial x} \n",
    "+ V \\frac{\\partial U}{\\partial y} + W \\frac{\\partial U}{\\partial z}\n",
    "+ \\frac{1}{\\rho}\\frac{\\partial P}{\\partial x} \n",
    "- \\nu \\left( \n",
    "    \\frac{\\partial^2 U}{\\partial x^2}\n",
    "    + \\frac{\\partial^2 U}{\\partial y^2} \n",
    "    + \\frac{\\partial^2 U}{\\partial z^2} \n",
    "\\right)\n",
    "$$\n",
    "\n",
    "$$\n",
    "= \n",
    "A \\left( \\frac{\\partial U}{\\partial x} \\right)^2 \n",
    "+ B \\left( \\frac{\\partial U}{\\partial y} \\right)^2\n",
    "+ C \\left( \\frac{\\partial U}{\\partial z} \\right)^2\n",
    "+ D \\left( \\frac{\\partial P}{\\partial x} \\right)^2\n",
    "+ E \\frac{\\partial^2 P}{\\partial x^2}\n",
    "+ F U \\frac{\\partial P}{\\partial x}\n",
    "$$\n",
    "\n",
    "$$\n",
    "U \\frac{\\partial V}{\\partial x} \n",
    "+ V \\frac{\\partial V}{\\partial y} \n",
    "+ W \\frac{\\partial V}{\\partial z}\n",
    "+ \\frac{1}{\\rho}\\frac{\\partial P}{\\partial y} \n",
    "- \\nu \\left( \n",
    "    \\frac{\\partial^2 V}{\\partial x^2}\n",
    "    + \\frac{\\partial^2 V}{\\partial y^2} \n",
    "    + \\frac{\\partial^2 V}{\\partial z^2} \n",
    "\\right)\n",
    "$$\n",
    "\n",
    "$$\n",
    "= \n",
    "A \\left( \\frac{\\partial V}{\\partial x} \\right)^2 \n",
    "+ B \\left( \\frac{\\partial V}{\\partial y} \\right)^2\n",
    "+ C \\left( \\frac{\\partial V}{\\partial z} \\right)^2\n",
    "+ D \\left( \\frac{\\partial P}{\\partial y} \\right)^2\n",
    "+ E \\frac{\\partial^2 P}{\\partial y^2}\n",
    "+ F V \\frac{\\partial P}{\\partial y}\n",
    "$$"
   ]
  },
  {
   "cell_type": "markdown",
   "metadata": {},
   "source": [
    "## Terms in index notation\n",
    "\n",
    "To be general and consistent, since we don't have any x- or z-variation\n",
    "\n",
    "$$\n",
    "\\frac{\\partial U_i}{\\partial t} + U_j \\frac{\\partial U_i}{\\partial x_j} \n",
    "+ \\frac{1}{\\rho}\\frac{\\partial P}{\\partial x_i}\n",
    "- \\nu \\frac{\\partial ^2 U_i}{\\partial x_j x_j}\n",
    "=\n",
    "A \\frac{(\\partial U_i)^2}{\\partial x_j \\partial x_j}\n",
    "+ B \\frac{\\partial U_j U_j}{\\partial x_i}\n",
    "+ C \\frac{\\partial P^2}{\\partial x_i}\n",
    "+ D \\left( \\frac{\\partial P}{\\partial x_i} \\right)^2\n",
    "+ E U_j \\frac{\\partial P}{\\partial x_j}\n",
    "$$"
   ]
  },
  {
   "cell_type": "markdown",
   "metadata": {},
   "source": [
    "What these coefficients describe:\n",
    "\n",
    "* $A$: The square of the velocity gradient\n",
    "* $B$: The gradient of kinetic energy\n",
    "* $C$: The gradient of squared pressure\n",
    "* $D$: The square of the pressure gradient"
   ]
  },
  {
   "cell_type": "code",
   "execution_count": 38,
   "metadata": {},
   "outputs": [
    {
     "data": {
      "text/html": [
       "<div>\n",
       "<style scoped>\n",
       "    .dataframe tbody tr th:only-of-type {\n",
       "        vertical-align: middle;\n",
       "    }\n",
       "\n",
       "    .dataframe tbody tr th {\n",
       "        vertical-align: top;\n",
       "    }\n",
       "\n",
       "    .dataframe thead th {\n",
       "        text-align: right;\n",
       "    }\n",
       "</style>\n",
       "<table border=\"1\" class=\"dataframe\">\n",
       "  <thead>\n",
       "    <tr style=\"text-align: right;\">\n",
       "      <th></th>\n",
       "      <th>y/d99</th>\n",
       "      <th>y+</th>\n",
       "      <th>uv</th>\n",
       "      <th>uw</th>\n",
       "      <th>vw</th>\n",
       "      <th>umed</th>\n",
       "      <th>vmed</th>\n",
       "      <th>wmed</th>\n",
       "      <th>dumdy</th>\n",
       "      <th>dvmdy</th>\n",
       "      <th>dwmdy</th>\n",
       "      <th>oxmed</th>\n",
       "      <th>oymed</th>\n",
       "      <th>ozmed</th>\n",
       "      <th>pm</th>\n",
       "      <th>pp</th>\n",
       "      <th>y</th>\n",
       "    </tr>\n",
       "    <tr>\n",
       "      <th>y</th>\n",
       "      <th></th>\n",
       "      <th></th>\n",
       "      <th></th>\n",
       "      <th></th>\n",
       "      <th></th>\n",
       "      <th></th>\n",
       "      <th></th>\n",
       "      <th></th>\n",
       "      <th></th>\n",
       "      <th></th>\n",
       "      <th></th>\n",
       "      <th></th>\n",
       "      <th></th>\n",
       "      <th></th>\n",
       "      <th></th>\n",
       "      <th></th>\n",
       "      <th></th>\n",
       "    </tr>\n",
       "  </thead>\n",
       "  <tbody>\n",
       "    <tr>\n",
       "      <th>0.000000</th>\n",
       "      <td>0.000000</td>\n",
       "      <td>0.000000</td>\n",
       "      <td>0.000000</td>\n",
       "      <td>0.000000</td>\n",
       "      <td>0.000000e+00</td>\n",
       "      <td>0.000000</td>\n",
       "      <td>0.000000e+00</td>\n",
       "      <td>0.000000</td>\n",
       "      <td>1.000017</td>\n",
       "      <td>-4.849432e-10</td>\n",
       "      <td>-0.001014</td>\n",
       "      <td>-0.001014</td>\n",
       "      <td>0.000000e+00</td>\n",
       "      <td>-1.000017</td>\n",
       "      <td>0.000529</td>\n",
       "      <td>3.032713</td>\n",
       "      <td>0.000000</td>\n",
       "    </tr>\n",
       "    <tr>\n",
       "      <th>0.002241</th>\n",
       "      <td>0.000145</td>\n",
       "      <td>0.288859</td>\n",
       "      <td>-0.000027</td>\n",
       "      <td>-0.000020</td>\n",
       "      <td>3.663793e-08</td>\n",
       "      <td>0.288859</td>\n",
       "      <td>5.517880e-08</td>\n",
       "      <td>-0.000293</td>\n",
       "      <td>0.999980</td>\n",
       "      <td>3.826547e-07</td>\n",
       "      <td>-0.001014</td>\n",
       "      <td>-0.001014</td>\n",
       "      <td>-5.526411e-08</td>\n",
       "      <td>-0.999980</td>\n",
       "      <td>0.000529</td>\n",
       "      <td>3.030068</td>\n",
       "      <td>0.002241</td>\n",
       "    </tr>\n",
       "    <tr>\n",
       "      <th>0.005143</th>\n",
       "      <td>0.000333</td>\n",
       "      <td>0.662932</td>\n",
       "      <td>-0.000337</td>\n",
       "      <td>-0.000110</td>\n",
       "      <td>4.568896e-07</td>\n",
       "      <td>0.662892</td>\n",
       "      <td>2.913277e-07</td>\n",
       "      <td>-0.000672</td>\n",
       "      <td>0.999738</td>\n",
       "      <td>8.802282e-07</td>\n",
       "      <td>-0.001014</td>\n",
       "      <td>-0.001014</td>\n",
       "      <td>-1.268852e-07</td>\n",
       "      <td>-0.999738</td>\n",
       "      <td>0.000529</td>\n",
       "      <td>3.028187</td>\n",
       "      <td>0.005143</td>\n",
       "    </tr>\n",
       "    <tr>\n",
       "      <th>0.008698</th>\n",
       "      <td>0.000564</td>\n",
       "      <td>1.121292</td>\n",
       "      <td>-0.001671</td>\n",
       "      <td>-0.000327</td>\n",
       "      <td>2.301801e-06</td>\n",
       "      <td>1.120913</td>\n",
       "      <td>8.350829e-07</td>\n",
       "      <td>-0.001137</td>\n",
       "      <td>0.998564</td>\n",
       "      <td>1.492937e-06</td>\n",
       "      <td>-0.001012</td>\n",
       "      <td>-0.001012</td>\n",
       "      <td>-2.148001e-07</td>\n",
       "      <td>-0.998564</td>\n",
       "      <td>0.000528</td>\n",
       "      <td>3.027302</td>\n",
       "      <td>0.008698</td>\n",
       "    </tr>\n",
       "    <tr>\n",
       "      <th>0.012900</th>\n",
       "      <td>0.000836</td>\n",
       "      <td>1.663030</td>\n",
       "      <td>-0.005539</td>\n",
       "      <td>-0.000751</td>\n",
       "      <td>7.686887e-06</td>\n",
       "      <td>1.661029</td>\n",
       "      <td>1.840536e-06</td>\n",
       "      <td>-0.001684</td>\n",
       "      <td>0.994960</td>\n",
       "      <td>2.218613e-06</td>\n",
       "      <td>-0.001007</td>\n",
       "      <td>-0.001007</td>\n",
       "      <td>-3.188665e-07</td>\n",
       "      <td>-0.994960</td>\n",
       "      <td>0.000528</td>\n",
       "      <td>3.027948</td>\n",
       "      <td>0.012900</td>\n",
       "    </tr>\n",
       "  </tbody>\n",
       "</table>\n",
       "</div>"
      ],
      "text/plain": [
       "             y/d99        y+        uv        uw            vw      umed  \\\n",
       "y                                                                          \n",
       "0.000000  0.000000  0.000000  0.000000  0.000000  0.000000e+00  0.000000   \n",
       "0.002241  0.000145  0.288859 -0.000027 -0.000020  3.663793e-08  0.288859   \n",
       "0.005143  0.000333  0.662932 -0.000337 -0.000110  4.568896e-07  0.662892   \n",
       "0.008698  0.000564  1.121292 -0.001671 -0.000327  2.301801e-06  1.120913   \n",
       "0.012900  0.000836  1.663030 -0.005539 -0.000751  7.686887e-06  1.661029   \n",
       "\n",
       "                  vmed      wmed     dumdy         dvmdy     dwmdy     oxmed  \\\n",
       "y                                                                              \n",
       "0.000000  0.000000e+00  0.000000  1.000017 -4.849432e-10 -0.001014 -0.001014   \n",
       "0.002241  5.517880e-08 -0.000293  0.999980  3.826547e-07 -0.001014 -0.001014   \n",
       "0.005143  2.913277e-07 -0.000672  0.999738  8.802282e-07 -0.001014 -0.001014   \n",
       "0.008698  8.350829e-07 -0.001137  0.998564  1.492937e-06 -0.001012 -0.001012   \n",
       "0.012900  1.840536e-06 -0.001684  0.994960  2.218613e-06 -0.001007 -0.001007   \n",
       "\n",
       "                 oymed     ozmed        pm        pp         y  \n",
       "y                                                               \n",
       "0.000000  0.000000e+00 -1.000017  0.000529  3.032713  0.000000  \n",
       "0.002241 -5.526411e-08 -0.999980  0.000529  3.030068  0.002241  \n",
       "0.005143 -1.268852e-07 -0.999738  0.000529  3.028187  0.005143  \n",
       "0.008698 -2.148001e-07 -0.998564  0.000528  3.027302  0.008698  \n",
       "0.012900 -3.188665e-07 -0.994960  0.000528  3.027948  0.012900  "
      ]
     },
     "execution_count": 38,
     "metadata": {},
     "output_type": "execute_result"
    },
    {
     "data": {
      "image/png": "[encoded data removed]",
      "text/plain": [
       "<Figure size 432x288 with 1 Axes>"
      ]
     },
     "metadata": {},
     "output_type": "display_data"
    }
   ],
   "source": [
    "%matplotlib inline\n",
    "import numpy as np\n",
    "import pandas as pd\n",
    "import matplotlib.pyplot as plt\n",
    "import os\n",
    "import seaborn\n",
    "seaborn.set()\n",
    "\n",
    "# Write a function to load the data\n",
    "def load_data(re=6500, drop_aux_cols=True):\n",
    "    fpath = f\"data/jiminez/Re_theta.{re:4d}.prof\"\n",
    "    # First read delta 99 and column names\n",
    "    with open(fpath) as f:\n",
    "        for n, line in enumerate(f.readlines()):\n",
    "            line = line.split()\n",
    "            if len(line) > 1:\n",
    "                if line[1].startswith(\"delta_99=\"):\n",
    "                    d99 = float(line[1].replace(\"delta_99=\", \"\"))\n",
    "                elif line[1].startswith(\"y/d99\"):\n",
    "                    cols = line[1:]\n",
    "                    skiprows = n + 1\n",
    "    df = pd.read_csv(fpath, names=cols, skiprows=skiprows,\n",
    "                     delim_whitespace=True)\n",
    "    df[\"y\"] = df[\"y/d99\"] * d99\n",
    "    # Drop columns we won't be using\n",
    "    if drop_aux_cols:\n",
    "        df = df[[c for c in df.columns if \"rms\" not in c\n",
    "                 and \"3\" not in c and \"2\" not in c]]\n",
    "    return df.set_index(\"y\", drop=False)\n",
    "\n",
    "\n",
    "df = load_data()\n",
    "\n",
    "df.plot(x=\"umed\", y=\"y\", legend=False)\n",
    "\n",
    "df.head()"
   ]
  },
  {
   "cell_type": "markdown",
   "metadata": {},
   "source": [
    "## Using data from pyJHTDB\n",
    "\n",
    "1. Pick a bunch of points randomly throughout the domain, at least more than the number of terms we want to test.\n",
    "2. Add points in each direction for computing spatial derivatives.\n",
    "3. Get $\\vec{u}$, $p$, and their gradients for all time at all points in the list.\n",
    "4. Calculate terms based on mean values.\n",
    "5. Use a regression model to determine coefficients on each term.\n",
    "6. Repeat this process to ensure the coefficients don't change?\n",
    "7. Run a RANS simulation with this new model and check the results against the mean profiles."
   ]
  },
  {
   "cell_type": "code",
   "execution_count": 2,
   "metadata": {},
   "outputs": [],
   "source": [
    "%load_ext blackcellmagic"
   ]
  },
  {
   "cell_type": "code",
   "execution_count": 20,
   "metadata": {},
   "outputs": [
    {
     "data": {
      "text/plain": [
       "(10, 10, 3)"
      ]
     },
     "execution_count": 20,
     "metadata": {},
     "output_type": "execute_result"
    }
   ],
   "source": [
    "import pyJHTDB\n",
    "\n",
    "# Get velocity and pressure gradients and Hessians for all points and time average\n",
    "\n",
    "# Adapted from example notebook\n",
    "\n",
    "# Note my token is in my home directory at ~/.config/JHTDB/auth_token.txt\n",
    "\n",
    "# load shared library\n",
    "lTDB = pyJHTDB.libJHTDB()\n",
    "# initialize webservices\n",
    "lTDB.initialize()\n",
    "\n",
    "dataset = \"transition_bl\"\n",
    "\n",
    "spatialInterp = 0  # no spatial interpolation\n",
    "temporalInterp = 0  # no time interpolation\n",
    "FD4NoInt = 40  # 4th-order FD, no spatial interpolation\n",
    "\n",
    "# Database domain size and number of grid points\n",
    "x_min = 30.2185\n",
    "x_max = 1000.0650\n",
    "y_min = 0.0036\n",
    "y_max = 26.4880\n",
    "z_min = 0.0000\n",
    "z_max = 240.0000\n",
    "d99i = 0.9648\n",
    "d99f = 15.0433\n",
    "\n",
    "nx = 3320\n",
    "ny = 224\n",
    "nz = 2048\n",
    "\n",
    "# Database time duration\n",
    "Ti = 0\n",
    "Tf = Ti + 1175\n",
    "dt = 0.25\n",
    "\n",
    "# Create surface\n",
    "# nix = round(nx / 4)\n",
    "# niz = round(nz / 4)\n",
    "nix = 10\n",
    "niy = 10\n",
    "niz = 1\n",
    "x = np.linspace(x_min, x_max, nix)\n",
    "# z = np.linspace(z_min, z_max, niz)\n",
    "z = np.array([120.0])\n",
    "# y = d99i\n",
    "y = np.linspace(y_min, y_max, niy)\n",
    "\n",
    "[X, Y] = np.meshgrid(x, y)\n",
    "points = np.zeros((nix, niy, 3))\n",
    "points[:, :, 0] = X.transpose()\n",
    "points[:, :, 1] = Y.transpose()\n",
    "points[:, :, 2] = 120.0\n",
    "# points[:, :, 2] = 120.0\n",
    "\n",
    "# 2D array with single precision values\n",
    "points = np.array(points, dtype=\"float32\")\n",
    "\n",
    "points.shape"
   ]
  },
  {
   "cell_type": "code",
   "execution_count": 34,
   "metadata": {},
   "outputs": [
    {
     "name": "stdout",
     "output_type": "stream",
     "text": [
      "Requesting velocity gradients at 100 points...\n",
      "CPU times: user 0 ns, sys: 0 ns, total: 0 ns\n",
      "Wall time: 6.55 s\n"
     ]
    }
   ],
   "source": [
    "%%time\n",
    "# Get the velocity gradient at each point\n",
    "\n",
    "t = Tf\n",
    "\n",
    "print(\"Requesting velocity gradients at {0} points...\".format(nix * niy))\n",
    "result_grad = lTDB.getData(\n",
    "    t,\n",
    "    points,\n",
    "    data_set=\"transition_bl\",\n",
    "    sinterp=FD4NoInt,\n",
    "    tinterp=temporalInterp,\n",
    "    getFunction=\"getVelocityGradient\",\n",
    ")"
   ]
  },
  {
   "cell_type": "code",
   "execution_count": 33,
   "metadata": {},
   "outputs": [
    {
     "data": {
      "text/plain": [
       "(10, 10, 9)"
      ]
     },
     "execution_count": 33,
     "metadata": {},
     "output_type": "execute_result"
    }
   ],
   "source": [
    "result_grad.shape"
   ]
  },
  {
   "cell_type": "code",
   "execution_count": 2,
   "metadata": {},
   "outputs": [],
   "source": [
    "import h5py"
   ]
  },
  {
   "cell_type": "code",
   "execution_count": 3,
   "metadata": {},
   "outputs": [
    {
     "name": "stdout",
     "output_type": "stream",
     "text": [
      "<KeysViewHDF5 ['pm', 'ppm', 'um', 'upm', 'uum', 'uvm', 'uwm', 'vm', 'vpm', 'vvm', 'vwm', 'wm', 'wpm', 'wwm', 'x_coor', 'y_coor', 'z_coor']>\n"
     ]
    }
   ],
   "source": [
    "with h5py.File(\"data/jhtdb-transitional-bl/time-ave-profiles.h5\", \"r\") as f:\n",
    "    print(f.keys())\n",
    "    data = {}\n",
    "    for k in f.keys():\n",
    "        data[k] = f[k][()]"
   ]
  },
  {
   "cell_type": "code",
   "execution_count": 14,
   "metadata": {},
   "outputs": [
    {
     "data": {
      "text/plain": [
       "((3320,), (224,), (2048,), (224, 3320))"
      ]
     },
     "execution_count": 14,
     "metadata": {},
     "output_type": "execute_result"
    }
   ],
   "source": [
    "x = data[\"x_coor\"]\n",
    "y = data[\"y_coor\"]\n",
    "z = data[\"z_coor\"]\n",
    "um = data[\"um\"]\n",
    "x.shape, y.shape, z.shape, um.shape"
   ]
  },
  {
   "cell_type": "code",
   "execution_count": 51,
   "metadata": {},
   "outputs": [],
   "source": [
    "df = pd.DataFrame(columns=x, index=y, data=data[\"wm\"])\n",
    "df.columns.name = \"x\"\n",
    "df.index.name = \"y\""
   ]
  },
  {
   "cell_type": "code",
   "execution_count": 23,
   "metadata": {},
   "outputs": [
    {
     "data": {
      "text/plain": [
       "(224, 3320)"
      ]
     },
     "execution_count": 23,
     "metadata": {},
     "output_type": "execute_result"
    }
   ],
   "source": [
    "np.gradient(data[\"uvm\"], axis=0).shape"
   ]
  },
  {
   "cell_type": "code",
   "execution_count": 76,
   "metadata": {},
   "outputs": [],
   "source": [
    "# TODO: Check that RANS applies to these mean values\n",
    "# If numerical derivatives are too noisy, download gradients and Hessians from JHTDB and time average\n",
    "dx = np.gradient(data[\"x_coor\"])\n",
    "dy = np.reshape(np.gradient(data[\"y_coor\"]), (224, 1))\n",
    "data[\"dpdx\"] = np.gradient(data[\"pm\"], axis=1) / dx\n",
    "data[\"duudx\"] = np.gradient(data[\"uum\"], axis=1) / dx\n",
    "data[\"duvdy\"] = np.gradient(data[\"uvm\"], axis=0) / dy\n",
    "data[\"dudx\"] = np.gradient(data[\"um\"]) / dx\n",
    "data[\"dudy\"] = (np.gradient(data[\"um\"]) / dy)[0]"
   ]
  },
  {
   "cell_type": "code",
   "execution_count": 58,
   "metadata": {},
   "outputs": [
    {
     "data": {
      "text/plain": [
       "[<matplotlib.lines.Line2D at 0x7f2b56c869d0>]"
      ]
     },
     "execution_count": 58,
     "metadata": {},
     "output_type": "execute_result"
    },
    {
     "data": {
      "image/png": "[encoded data removed]",
      "text/plain": [
       "<Figure size 432x288 with 1 Axes>"
      ]
     },
     "metadata": {},
     "output_type": "display_data"
    }
   ],
   "source": [
    "plt.plot(data[\"dudy\"][:, 100], y)"
   ]
  },
  {
   "cell_type": "code",
   "execution_count": 53,
   "metadata": {},
   "outputs": [
    {
     "data": {
      "text/plain": [
       "[<matplotlib.lines.Line2D at 0x7f2b56dedad0>]"
      ]
     },
     "execution_count": 53,
     "metadata": {},
     "output_type": "execute_result"
    },
    {
     "data": {
      "image/png": "[encoded data removed]",
      "text/plain": [
       "<Figure size 432x288 with 1 Axes>"
      ]
     },
     "metadata": {},
     "output_type": "display_data"
    }
   ],
   "source": [
    "plt.plot(data[\"um\"][:, 100], y)"
   ]
  },
  {
   "cell_type": "code",
   "execution_count": 82,
   "metadata": {},
   "outputs": [
    {
     "data": {
      "text/plain": [
       "[<matplotlib.lines.Line2D at 0x7f2b518f47d0>]"
      ]
     },
     "execution_count": 82,
     "metadata": {},
     "output_type": "execute_result"
    },
    {
     "data": {
      "image/png": "[encoded data removed]",
      "text/plain": [
       "<Figure size 432x288 with 1 Axes>"
      ]
     },
     "metadata": {},
     "output_type": "display_data"
    }
   ],
   "source": [
    "plt.plot(data[\"duudx\"][:, 100], y)"
   ]
  },
  {
   "cell_type": "code",
   "execution_count": 40,
   "metadata": {},
   "outputs": [],
   "source": [
    "# TODO: Compute a bunch of quantities and add to the data dictionary\n",
    "# Mean kinetic energy\n",
    "# Squared gradients\n",
    "# Gradients multiplied by each other\n",
    "# Gradients multiplied by mean values"
   ]
  },
  {
   "cell_type": "code",
   "execution_count": 41,
   "metadata": {},
   "outputs": [],
   "source": [
    "# Compute the Reynolds stress residual as a target for an ML model\n",
    "# Solve a linear regression for the coefficients of all derived terms\n",
    "# Throw out terms with coefficients below a threshold"
   ]
  },
  {
   "cell_type": "code",
   "execution_count": 42,
   "metadata": {},
   "outputs": [],
   "source": [
    "# TODO: Write as a RANS model for OpenFOAM and solve this same problem there"
   ]
  },
  {
   "cell_type": "code",
   "execution_count": 43,
   "metadata": {},
   "outputs": [],
   "source": [
    "# TODO: Check mean flow from OpenFOAM simulation matches DNS"
   ]
  }
 ],
 "metadata": {
  "anaconda-cloud": {},
  "kernelspec": {
   "display_name": "Python 3",
   "language": "python",
   "name": "python3"
  },
  "language_info": {
   "codemirror_mode": {
    "name": "ipython",
    "version": 3
   },
   "file_extension": ".py",
   "mimetype": "text/x-python",
   "name": "python",
   "nbconvert_exporter": "python",
   "pygments_lexer": "ipython3",
   "version": "3.7.7"
  }
 },
 "nbformat": 4,
 "nbformat_minor": 4
}
